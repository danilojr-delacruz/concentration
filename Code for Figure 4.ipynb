{
 "cells": [
  {
   "cell_type": "markdown",
   "metadata": {},
   "source": [
    "# Asymptotic Concentration of Volume in Hypercubes"
   ]
  },
  {
   "cell_type": "code",
   "execution_count": 1,
   "metadata": {},
   "outputs": [],
   "source": [
    "import numpy as np\n",
    "import matplotlib.pyplot as plt\n",
    "%matplotlib inline # Change to %matplotlib qt in order to get a copy of the figure "
   ]
  },
  {
   "cell_type": "code",
   "execution_count": 23,
   "metadata": {},
   "outputs": [],
   "source": [
    "n = 2000 # Number of dimensions\n",
    "epsilon = 0.01 # Width of the epsilon band\n",
    "\n",
    "points_distance = []\n",
    "\n",
    "for i in range(10**5):\n",
    "    # Randomly sample a point from the n-Cube\n",
    "    point = np.random.uniform(-1,1,n)\n",
    "    # Compute its magnitude\n",
    "    distance = np.linalg.norm(point)\n",
    "    # Record this magnitude\n",
    "    points_distance.append(distance)\n",
    "\n",
    "# Visualise the data into a histogram\n",
    "plt.hist(points_distance, bins = 200, density = True, color='indigo')\n",
    "\n",
    "# Plot the boundaries of the epsilon band\n",
    "plt.axvline((1-epsilon)*(n/3)**0.5, linestyle = '--', color = 'gold')\n",
    "plt.axvline((1+epsilon)*(n/3)**0.5, linestyle = '--', color = 'gold');"
   ]
  },
  {
   "cell_type": "code",
   "execution_count": null,
   "metadata": {},
   "outputs": [],
   "source": [
    "# Computes the proportion that falls inside epsilon band\n",
    "count = 0\n",
    "for point in points_distance:\n",
    "    if (1-epsilon)*(n/3)**0.5 < point <(1+epsilon)*(n/3)**0.5:\n",
    "        count += 1\n",
    "        \n",
    "count / len(points_distance)"
   ]
  }
 ],
 "metadata": {
  "kernelspec": {
   "display_name": "Python 3",
   "language": "python",
   "name": "python3"
  },
  "language_info": {
   "codemirror_mode": {
    "name": "ipython",
    "version": 3
   },
   "file_extension": ".py",
   "mimetype": "text/x-python",
   "name": "python",
   "nbconvert_exporter": "python",
   "pygments_lexer": "ipython3",
   "version": "3.7.6"
  }
 },
 "nbformat": 4,
 "nbformat_minor": 4
}
