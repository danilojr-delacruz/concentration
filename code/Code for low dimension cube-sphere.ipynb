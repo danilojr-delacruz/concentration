{
 "cells": [
  {
   "cell_type": "markdown",
   "metadata": {},
   "source": [
    "# Visualisations of the $n$-Cube and $(n-1)$-Sphere in Lower dimensions\n",
    "\n",
    "When talking about the concentration of the volume of the cube with a hypersphere it is key that we refer to the hypershere's intersection with the cube. In lower dimensions the sphere is contained in the cube hence an intersection would be superfluous. However for $n \\ge 4$ the radius of the sphere $ "
   ]
  },
  {
   "cell_type": "code",
   "execution_count": 1,
   "metadata": {},
   "outputs": [],
   "source": [
    "%matplotlib inline"
   ]
  },
  {
   "cell_type": "code",
   "execution_count": 2,
   "metadata": {},
   "outputs": [
    {
     "data": {
      "text/plain": [
       "<matplotlib.collections.PathCollection at 0x15b9ad6bd48>"
      ]
     },
     "execution_count": 2,
     "metadata": {},
     "output_type": "execute_result"
    }
   ],
   "source": [
    "from matplotlib import pyplot as plt\n",
    "import numpy as np\n",
    "\n",
    "## Aesthetic alterations to the 2D plane\n",
    "\n",
    "fig1 = plt.figure(facecolor='white', figsize=(15,15))\n",
    "ax = plt.axes(frameon=False)\n",
    "\n",
    "ax.axes.get_yaxis().set_visible(False)\n",
    "ax.set_ylim((-1,1))\n",
    "\n",
    "# Dimension\n",
    "n = 1\n",
    "\n",
    "# Radius of the (n-1)-Sphere\n",
    "r = (n/3)**0.5\n",
    "\n",
    "# Distance of Sphere from the line\n",
    "h = 0.1\n",
    "\n",
    "# Plotting the 1-Cube\n",
    "ax.hlines(0,-1,1)  # Draw a horizontal line\n",
    "\n",
    "# Generates the points for the 0-Sphere\n",
    "ax.scatter(-r, h, color = 'indigo')\n",
    "ax.scatter(r, h, color = 'indigo')"
   ]
  },
  {
   "cell_type": "code",
   "execution_count": 5,
   "metadata": {},
   "outputs": [
    {
     "data": {
      "text/plain": [
       "[<matplotlib.lines.Line2D at 0x15ba26e6f08>]"
      ]
     },
     "execution_count": 5,
     "metadata": {},
     "output_type": "execute_result"
    }
   ],
   "source": [
    "import matplotlib.pyplot as plt\n",
    "import numpy as np\n",
    "from itertools import product, combinations\n",
    "\n",
    "fig = plt.figure(figsize=(15,15))\n",
    "ax = plt.axes()\n",
    "\n",
    "## Aesthetic alterations to the 2D plane\n",
    "\n",
    "# Limits the range of the axes\n",
    "ax.set_xlim((-1,1))\n",
    "ax.set_ylim((-1,1))\n",
    "\n",
    "# Sets the desired axis positioning\n",
    "ax.spines['left'].set_position('center')\n",
    "ax.spines['bottom'].set_position('center')\n",
    "\n",
    "# Eliminate upper and right axes\n",
    "ax.spines['right'].set_color('none')\n",
    "ax.spines['top'].set_color('none')\n",
    "\n",
    "# Show ticks in the left and lower axes only\n",
    "ax.xaxis.set_ticks_position('bottom')\n",
    "ax.yaxis.set_ticks_position('left')\n",
    "\n",
    "# Removes the tick marks\n",
    "ax.set_yticklabels([])\n",
    "ax.set_xticklabels([])\n",
    "\n",
    "# Dimension\n",
    "n = 2\n",
    "\n",
    "# Radius of the (n-1)-Sphere\n",
    "r = (n/3) ** 0.5\n",
    "\n",
    "# Draws the edges of the 2-Cube\n",
    "l = [-1, 1]\n",
    "for s, e in combinations(np.array(list(product(l, l))), 2):\n",
    "    if np.sum(np.abs(s-e)) == l[1]-l[0]:\n",
    "        ax.plot(*zip(s, e), color='k')\n",
    "\n",
    "# Generates the for the 1-Sphere\n",
    "theta = np.linspace(0, 2*np.pi, 100)\n",
    "x = r*np.cos(theta)\n",
    "y = r*np.sin(theta)\n",
    "ax.plot(x, y, color = 'indigo')\n"
   ]
  },
  {
   "cell_type": "code",
   "execution_count": 4,
   "metadata": {},
   "outputs": [
    {
     "data": {
      "text/plain": [
       "<mpl_toolkits.mplot3d.art3d.Poly3DCollection at 0x15ba2623488>"
      ]
     },
     "execution_count": 4,
     "metadata": {},
     "output_type": "execute_result"
    }
   ],
   "source": [
    "from mpl_toolkits.mplot3d import Axes3D\n",
    "import matplotlib.pyplot as plt\n",
    "import numpy as np\n",
    "from itertools import product, combinations\n",
    "\n",
    "fig = plt.figure(figsize=(15,15))\n",
    "ax = fig.gca(projection='3d')\n",
    "\n",
    "## Aesthetic alterations to the 3D plane\n",
    "\n",
    "# Limits the range of the axes\n",
    "ax.set_xlim((-1,1))\n",
    "ax.set_ylim((-1,1))\n",
    "ax.set_zlim((-1,1))\n",
    "\n",
    "# Hides the axis lines\n",
    "ax.w_xaxis.line.set_color((1.0, 1.0, 1.0, 0.0)) \n",
    "ax.w_yaxis.line.set_color((1.0, 1.0, 1.0, 0.0)) \n",
    "ax.w_zaxis.line.set_color((1.0, 1.0, 1.0, 0.0))\n",
    "\n",
    "# Removes the tick marks\n",
    "ax.set_yticklabels([])\n",
    "ax.set_xticklabels([])\n",
    "ax.set_zticklabels([])\n",
    "\n",
    "# Dimension\n",
    "n = 3\n",
    "\n",
    "# Radius of the (n-1)-Sphere\n",
    "r = (n/3) ** 0.5\n",
    "\n",
    "# Draws the edges of the 3-Cube\n",
    "l = [-1, 1]\n",
    "for s, e in combinations(np.array(list(product(l, l, l))), 2):\n",
    "    if np.sum(np.abs(s-e)) == l[1]-l[0]:\n",
    "        ax.plot3D(*zip(s, e), color='k')\n",
    "\n",
    "# Generates the points for the 2-Sphere\n",
    "u, v = np.mgrid[0:2*np.pi:200j, 0:np.pi:200j]\n",
    "x = r*np.cos(u)*np.sin(v)\n",
    "y = r*np.sin(u)*np.sin(v)\n",
    "z = r*np.cos(v)\n",
    "ax.plot_surface(x, y, z, color = 'indigo', alpha = 0.7)"
   ]
  }
 ],
 "metadata": {
  "kernelspec": {
   "display_name": "Python 3",
   "language": "python",
   "name": "python3"
  },
  "language_info": {
   "codemirror_mode": {
    "name": "ipython",
    "version": 3
   },
   "file_extension": ".py",
   "mimetype": "text/x-python",
   "name": "python",
   "nbconvert_exporter": "python",
   "pygments_lexer": "ipython3",
   "version": "3.7.6"
  }
 },
 "nbformat": 4,
 "nbformat_minor": 4
}
